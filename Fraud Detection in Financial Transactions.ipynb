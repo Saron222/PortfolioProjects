{
 "cells": [
  {
   "cell_type": "markdown",
   "id": "cfdffd11-6dcb-44cc-912d-35bfb7098e9d",
   "metadata": {},
   "source": [
    "# Fraud Detection in Financial Transactions"
   ]
  },
  {
   "cell_type": "markdown",
   "id": "e32d05a9-e128-42ad-9a41-ec816fb11aa0",
   "metadata": {},
   "source": [
    "# Milestone 1"
   ]
  },
  {
   "cell_type": "markdown",
   "id": "3f719a17-0fa5-4558-b7c8-4922a1a6fa76",
   "metadata": {},
   "source": [
    "\r\n",
    "## Project Overview\r\n",
    "\r\n",
    "The main objective of this project is to develop a fraud detection system for financial transactions. The dataset contains transactional information, including customer details, transaction amounts, merchant information, and an indicator for potential fraud.\r\n",
    "\r\n",
    "## Problem Statement\r\n",
    "\r\n",
    "Financial institutions face an ongoing challenge in identifying and preventing fraudulent activities. Detecting anomalous transactions is crucial for safeguarding the integrity of the financial system and ensuring the trust of customers.\r\n",
    "\r\n",
    "## Target for the Model\r\n",
    "\r\n",
    "The main goal of this project is to build a machine learning model that accurately identifies potentially fraudulent transactions based on the provided dataset. This model will serve as a tool for flagging suspicious transactions for further investigation.\r\n",
    "\r\n",
    "## Key Features\r\n",
    "\r\n",
    "- `step`: Denotes the time step of the transaction.\r\n",
    "- `customer`: Unique identifier for the customer.\r\n",
    "- `age`: Age of the customer.\r\n",
    "- `gender`: Gender of the customer.\r\n",
    "- `zipcodeOri`: Original zip code of the customer.\r\n",
    "- `merchant`: Unique identifier for the merchant.\r\n",
    "- `zipMerchant`: Merchant's zip code.\r\n",
    "- `category`: Category of the transaction.\r\n",
    "- `amount`: The monetary value of the transaction.\r\n",
    "- `Source`: Source account for the transaction.\r\n",
    "- `Target`: Target account for the transaction.\r\n",
    "- `Weight`: Weight of the transaction.\r\n",
    "- `typeTrans`: Type of transaction.\r\n",
    "- `fraud`: Binary indicator (1 for fraudulent, 0 for legitimate).\r\n",
    "\r\n",
    "## Narrative\r\n",
    "\r\n",
    "In this project, the focus lies on the development of a fraud detection system for financial transactions. The dataset presents a valuable opportunity to gain insights and build models to effectively identify suspicious activities.\r\n",
    "\r\n",
    "The process starts with a thorough exploratory data analysis (EDA) to understand the characteristics of the dataset. This includes examining the distribution of transaction types, amounts, and patterns associated with fraud. Additionally, features like customer demographics and merchant information will be explored to identify potential patterns.\r\n",
    "\r\n",
    "Following the EDA, data preprocessing steps will be implemented. This involves tasks such as handling missing values, encoding categorical variables, and scaling numerical features. Feature engineering will play a crucial role in extracting meaningful insights from the existing data, potentially including derived features like transaction frequency and customer behavior metrics.\r\n",
    "\r\n",
    "For model development, a range of algorithms will be considered, including ensemble methods like Random Forest, Gradient Boosting, and logistic regression. The model will be trained and evaluated using appropriate metrics like precision, recall, and F1-score to ensure it meets the desired performance criteria.\r\n",
    "\r\n",
    "Interpretability techniques will be employed to understand which features contribute most significantly to the model's decisions. This is essential for providing explanations to stakeholders and building trust in the system.\r\n",
    "\r\n",
    "Finally, the trained model will be deployed in a production environment, where it will operate in real-time to flag potentially fraudulent transactions. Continuous monitoring and periodic retraining will be implemented to adapt to evolving fraud patterns.\r\n",
    "\r\n",
    "By addressing the challenge of fraud detection in financial transactions, this project aims to enhance the security and trustworthiness of financial systems, benefiting both businesses and consumers.\r\n",
    "s a clear and organized overview of your"
   ]
  },
  {
   "cell_type": "code",
   "execution_count": null,
   "id": "aebf912a-3735-4837-a4fd-0228d8cade21",
   "metadata": {},
   "outputs": [],
   "source": []
  },
  {
   "cell_type": "markdown",
   "id": "adeb108a-9275-4a3b-8196-4b19ac77b69a",
   "metadata": {},
   "source": [
    "### Graphical Analysis"
   ]
  },
  {
   "cell_type": "code",
   "execution_count": 3,
   "id": "47f8b4cd-159a-4bde-bd4b-b2dd15602226",
   "metadata": {},
   "outputs": [],
   "source": [
    "import pandas as pd\n",
    "import numpy as np\n",
    "import matplotlib.pyplot as plt\n",
    "import seaborn as sns\n",
    "from collections import Counter\n",
    "from imblearn.over_sampling import SMOTE\n",
    "from sklearn.compose import ColumnTransformer\n",
    "from sklearn.ensemble import RandomForestClassifier\n",
    "from sklearn.linear_model import LogisticRegression\n",
    "from sklearn.metrics import (classification_report, confusion_matrix, \n",
    "                             accuracy_score, roc_auc_score, roc_curve, \n",
    "                             precision_recall_curve, average_precision_score)\n",
    "from sklearn.model_selection import GridSearchCV, train_test_split\n",
    "from sklearn.preprocessing import OneHotEncoder\n",
    "from xgboost import XGBClassifier\n",
    "from sklearn.svm import SVC\n",
    "from imblearn.under_sampling import RandomUnderSampler\n"
   ]
  },
  {
   "cell_type": "code",
   "execution_count": 2,
   "id": "334b3159-1da0-4745-ba15-a0a98abcd69f",
   "metadata": {},
   "outputs": [
    {
     "data": {
      "text/html": [
       "<div>\n",
       "<style scoped>\n",
       "    .dataframe tbody tr th:only-of-type {\n",
       "        vertical-align: middle;\n",
       "    }\n",
       "\n",
       "    .dataframe tbody tr th {\n",
       "        vertical-align: top;\n",
       "    }\n",
       "\n",
       "    .dataframe thead th {\n",
       "        text-align: right;\n",
       "    }\n",
       "</style>\n",
       "<table border=\"1\" class=\"dataframe\">\n",
       "  <thead>\n",
       "    <tr style=\"text-align: right;\">\n",
       "      <th></th>\n",
       "      <th>step</th>\n",
       "      <th>customer</th>\n",
       "      <th>age</th>\n",
       "      <th>gender</th>\n",
       "      <th>zipcodeOri</th>\n",
       "      <th>merchant</th>\n",
       "      <th>zipMerchant</th>\n",
       "      <th>category</th>\n",
       "      <th>amount</th>\n",
       "      <th>Source</th>\n",
       "      <th>Target</th>\n",
       "      <th>Weight</th>\n",
       "      <th>typeTrans</th>\n",
       "      <th>fraud</th>\n",
       "    </tr>\n",
       "  </thead>\n",
       "  <tbody>\n",
       "    <tr>\n",
       "      <th>0</th>\n",
       "      <td>0</td>\n",
       "      <td>'C1093826151'</td>\n",
       "      <td>'4'</td>\n",
       "      <td>'M'</td>\n",
       "      <td>'28007'</td>\n",
       "      <td>'M348934600'</td>\n",
       "      <td>'28007'</td>\n",
       "      <td>'es_transportation'</td>\n",
       "      <td>4.55</td>\n",
       "      <td>'C1093826151'</td>\n",
       "      <td>'M348934600'</td>\n",
       "      <td>4.55</td>\n",
       "      <td>'es_transportation'</td>\n",
       "      <td>0</td>\n",
       "    </tr>\n",
       "    <tr>\n",
       "      <th>1</th>\n",
       "      <td>0</td>\n",
       "      <td>'C352968107'</td>\n",
       "      <td>'2'</td>\n",
       "      <td>'M'</td>\n",
       "      <td>'28007'</td>\n",
       "      <td>'M348934600'</td>\n",
       "      <td>'28007'</td>\n",
       "      <td>'es_transportation'</td>\n",
       "      <td>39.68</td>\n",
       "      <td>'C352968107'</td>\n",
       "      <td>'M348934600'</td>\n",
       "      <td>39.68</td>\n",
       "      <td>'es_transportation'</td>\n",
       "      <td>0</td>\n",
       "    </tr>\n",
       "    <tr>\n",
       "      <th>2</th>\n",
       "      <td>0</td>\n",
       "      <td>'C2054744914'</td>\n",
       "      <td>'4'</td>\n",
       "      <td>'F'</td>\n",
       "      <td>'28007'</td>\n",
       "      <td>'M1823072687'</td>\n",
       "      <td>'28007'</td>\n",
       "      <td>'es_transportation'</td>\n",
       "      <td>26.89</td>\n",
       "      <td>'C2054744914'</td>\n",
       "      <td>'M1823072687'</td>\n",
       "      <td>26.89</td>\n",
       "      <td>'es_transportation'</td>\n",
       "      <td>0</td>\n",
       "    </tr>\n",
       "    <tr>\n",
       "      <th>3</th>\n",
       "      <td>0</td>\n",
       "      <td>'C1760612790'</td>\n",
       "      <td>'3'</td>\n",
       "      <td>'M'</td>\n",
       "      <td>'28007'</td>\n",
       "      <td>'M348934600'</td>\n",
       "      <td>'28007'</td>\n",
       "      <td>'es_transportation'</td>\n",
       "      <td>17.25</td>\n",
       "      <td>'C1760612790'</td>\n",
       "      <td>'M348934600'</td>\n",
       "      <td>17.25</td>\n",
       "      <td>'es_transportation'</td>\n",
       "      <td>0</td>\n",
       "    </tr>\n",
       "    <tr>\n",
       "      <th>4</th>\n",
       "      <td>0</td>\n",
       "      <td>'C757503768'</td>\n",
       "      <td>'5'</td>\n",
       "      <td>'M'</td>\n",
       "      <td>'28007'</td>\n",
       "      <td>'M348934600'</td>\n",
       "      <td>'28007'</td>\n",
       "      <td>'es_transportation'</td>\n",
       "      <td>35.72</td>\n",
       "      <td>'C757503768'</td>\n",
       "      <td>'M348934600'</td>\n",
       "      <td>35.72</td>\n",
       "      <td>'es_transportation'</td>\n",
       "      <td>0</td>\n",
       "    </tr>\n",
       "  </tbody>\n",
       "</table>\n",
       "</div>"
      ],
      "text/plain": [
       "   step       customer  age gender zipcodeOri       merchant zipMerchant  \\\n",
       "0     0  'C1093826151'  '4'    'M'    '28007'   'M348934600'     '28007'   \n",
       "1     0   'C352968107'  '2'    'M'    '28007'   'M348934600'     '28007'   \n",
       "2     0  'C2054744914'  '4'    'F'    '28007'  'M1823072687'     '28007'   \n",
       "3     0  'C1760612790'  '3'    'M'    '28007'   'M348934600'     '28007'   \n",
       "4     0   'C757503768'  '5'    'M'    '28007'   'M348934600'     '28007'   \n",
       "\n",
       "              category  amount         Source         Target  Weight  \\\n",
       "0  'es_transportation'    4.55  'C1093826151'   'M348934600'    4.55   \n",
       "1  'es_transportation'   39.68   'C352968107'   'M348934600'   39.68   \n",
       "2  'es_transportation'   26.89  'C2054744914'  'M1823072687'   26.89   \n",
       "3  'es_transportation'   17.25  'C1760612790'   'M348934600'   17.25   \n",
       "4  'es_transportation'   35.72   'C757503768'   'M348934600'   35.72   \n",
       "\n",
       "             typeTrans  fraud  \n",
       "0  'es_transportation'      0  \n",
       "1  'es_transportation'      0  \n",
       "2  'es_transportation'      0  \n",
       "3  'es_transportation'      0  \n",
       "4  'es_transportation'      0  "
      ]
     },
     "execution_count": 2,
     "metadata": {},
     "output_type": "execute_result"
    }
   ],
   "source": [
    "original_df = pd.read_csv(\"Financial payment system.csv\")\n",
    "original_df.head()"
   ]
  },
  {
   "cell_type": "code",
   "execution_count": 3,
   "id": "da8f9376-ad3c-497c-a020-0b583d388456",
   "metadata": {},
   "outputs": [
    {
     "data": {
      "image/png": "[encoded data removed]",
      "text/plain": [
       "<Figure size 1000x600 with 1 Axes>"
      ]
     },
     "metadata": {},
     "output_type": "display_data"
    }
   ],
   "source": [
    "transaction_categories = original_df['category'].value_counts()\n",
    "\n",
    "plt.figure(figsize=(10, 6))\n",
    "plt.bar(transaction_categories.index, transaction_categories.values, color='skyblue')\n",
    "plt.xlabel('Transaction Category')\n",
    "plt.ylabel('Frequency')\n",
    "plt.title('Transaction Category Distribution')\n",
    "plt.xticks(rotation=45)\n",
    "plt.show()\n"
   ]
  },
  {
   "cell_type": "markdown",
   "id": "f401c86e-b9b7-45b5-85ed-c30f0be2fe3c",
   "metadata": {},
   "source": [
    "Analysis:\n",
    "This graph shows the overview of the distribution of transaction categories. From the chart, we can see that transportation is the most common category in the dataset. We can also see that there is a huge gap between the most frequent and the second most frequent categories."
   ]
  },
  {
   "cell_type": "code",
   "execution_count": 4,
   "id": "8704cc0c-f8fd-479e-8bb3-60a4ffe08167",
   "metadata": {},
   "outputs": [
    {
     "data": {
      "image/png": "[encoded data removed]",
      "text/plain": [
       "<Figure size 600x600 with 1 Axes>"
      ]
     },
     "metadata": {},
     "output_type": "display_data"
    }
   ],
   "source": [
    "gender_distribution = original_df['gender'].value_counts()\n",
    "\n",
    "plt.figure(figsize=(6, 6))\n",
    "plt.pie(gender_distribution, labels=gender_distribution.index, autopct='%1.1f%%', startangle=140, colors=['lightcoral', 'lightskyblue'])\n",
    "plt.title('Gender Distribution')\n",
    "plt.axis('equal')\n",
    "plt.show()\n"
   ]
  },
  {
   "cell_type": "markdown",
   "id": "9d6c705f-eacc-463f-8433-411e800b8bb5",
   "metadata": {},
   "source": [
    "Analysis: It's important to understand the demographics of the customers involved in the transactions. And this graph provides insights into the distribution of genders in the dataset. The pie chart shows that there are slightly more Females in the dataset."
   ]
  },
  {
   "cell_type": "code",
   "execution_count": 5,
   "id": "608da293-70b1-4895-a580-2edbcf500370",
   "metadata": {},
   "outputs": [
    {
     "data": {
      "image/png": "[encoded data removed]",
      "text/plain": [
       "<Figure size 800x600 with 1 Axes>"
      ]
     },
     "metadata": {},
     "output_type": "display_data"
    }
   ],
   "source": [
    "plt.figure(figsize=(8, 6))\n",
    "sns.histplot(original_df['age'], kde=True, color='skyblue')\n",
    "plt.xlabel('Age')\n",
    "plt.ylabel('Frequency')\n",
    "plt.title('Age Distribution')\n",
    "plt.show()\n"
   ]
  },
  {
   "cell_type": "markdown",
   "id": "5ca3f9f6-29b9-4dfa-b71b-f135859698d3",
   "metadata": {},
   "source": [
    "Analysis: This graph gives us an overview of the distribution of customer ages. Understanding the age demographics can be crucial in identifying potential trends or patterns related to fraud. The histogram is right skewed revealing 2 to be the most frequent age. It also shows that there are bad/undefined data which will be cleaned in the next milestone of the project. "
   ]
  },
  {
   "cell_type": "code",
   "execution_count": 6,
   "id": "d9ac0d5d-57c2-40c4-8333-1c563aa606a7",
   "metadata": {},
   "outputs": [
    {
     "data": {
      "image/png": "[encoded data removed]",
      "text/plain": [
       "<Figure size 600x600 with 1 Axes>"
      ]
     },
     "metadata": {},
     "output_type": "display_data"
    }
   ],
   "source": [
    "fraud_distribution = original_df['fraud'].value_counts()\n",
    "\n",
    "plt.figure(figsize=(6, 6))\n",
    "plt.pie(fraud_distribution, labels=['Legitimate', 'Fraudulent'], autopct='%1.1f%%', startangle=140, colors=['lightcoral', 'lightskyblue'])\n",
    "plt.title('Fraudulent vs. Legitimate Transactions')\n",
    "plt.axis('equal')\n",
    "plt.show()\n"
   ]
  },
  {
   "cell_type": "markdown",
   "id": "c7cdda39-4db2-4a63-b92e-f79fb0fffe22",
   "metadata": {},
   "source": [
    "Analysis:\n",
    "This graph illustrates the proportion of fraudulent transactions compared to legitimate ones. This helps to understand the age distribution of the dataset which will be helpful in the future."
   ]
  },
  {
   "cell_type": "code",
   "execution_count": 7,
   "id": "88fe33c1-85c7-4010-97c3-1d30b3533157",
   "metadata": {
    "scrolled": true
   },
   "outputs": [
    {
     "data": {
      "image/png": "[encoded data removed]",
      "text/plain": [
       "<Figure size 800x600 with 1 Axes>"
      ]
     },
     "metadata": {},
     "output_type": "display_data"
    }
   ],
   "source": [
    "plt.figure(figsize=(8, 6))\n",
    "sns.boxplot(x='fraud', y='amount', data=original_df, palette='pastel', hue='fraud', legend=False)\n",
    "plt.xlabel('Fraud')\n",
    "plt.ylabel('Transaction Amount')\n",
    "plt.title('Relationship between Transaction Amount and Fraud')\n",
    "plt.show()\n"
   ]
  },
  {
   "cell_type": "markdown",
   "id": "4b743634-7209-40c6-9411-6df6fc8139dd",
   "metadata": {},
   "source": [
    "Analysis:\n",
    "This graph visually compares the distribution of transaction amounts between fraudulent and legitimate transactions. It helps identify potential outliers and differences in transaction values for the two classes. 0 shows the distribution of transaction for legitimate transactions and 1 for fraud. It shows that there are significant differences in transaction amounts between legitimate and fraudulent transactions. Even though we saw earlier that Fraud transactions have less count, here we can see that they are more in amount."
   ]
  },
  {
   "cell_type": "code",
   "execution_count": null,
   "id": "2b5ad8d1-e739-4484-a6a0-93fef7ce00b3",
   "metadata": {},
   "outputs": [],
   "source": []
  },
  {
   "cell_type": "markdown",
   "id": "8da9f593-1562-460f-a669-ba6193405d15",
   "metadata": {
    "jp-MarkdownHeadingCollapsed": true
   },
   "source": [
    "### Overview/Conclusion:\r\n",
    "\r\n",
    "Based on the graphical analysis, we can make the following initial observations:\r\n",
    "\r\n",
    "1. **Transaction Categories**: The most common transaction categories in the dataset are transportation followed by food.\r\n",
    "\r\n",
    "2. **Gender Distribution**: The dataset has a relatively balanced gender distribution, with 54.8% and 45.2% for Female and Male, respectively.\r\n",
    "\r\n",
    "3. **Age Distribution**: The age distribution of customers in the dataset is right-skewed.\r\n",
    "\r\n",
    "4. **Relationship between Transaction Amount and Fraud**: There appear to be significant differences in transaction amounts between fraudulent and legitimate transactions.\r\n",
    "\r\n",
    "These initial insights lay the foundation for further exploration and model building to construct an effective fraud detection system.\r\n"
   ]
  },
  {
   "cell_type": "code",
   "execution_count": null,
   "id": "b8c04ae0-e9cd-48ba-98e7-04b14f656031",
   "metadata": {},
   "outputs": [],
   "source": []
  },
  {
   "cell_type": "markdown",
   "id": "a9cbbaf8-6837-406c-945d-f3dc8e103f31",
   "metadata": {},
   "source": [
    "# Milestone 2"
   ]
  },
  {
   "cell_type": "code",
   "execution_count": 13,
   "id": "27640530-9310-4bdc-8eb5-ef8198f795e3",
   "metadata": {},
   "outputs": [],
   "source": [
    "\n",
    "# Create a random dataset\n",
    "np.random.seed(0)\n",
    "n_samples = 10000\n",
    "\n",
    "df = {\n",
    "    'step': np.random.randint(0, 10, n_samples),\n",
    "    # 'customer': ['C' + str(i) for i in np.random.randint(100000000, 200000000, n_samples)],\n",
    "    'age': np.random.randint(18, 70, n_samples),\n",
    "    'gender': np.random.choice(['M', 'F'], n_samples),\n",
    "    'zipcodeOri': np.random.randint(10000, 99999, n_samples),\n",
    "    'merchant': ['M' + str(i) for i in np.random.randint(100000000, 200000000, n_samples)],\n",
    "    'zipMerchant': np.random.randint(10000, 99999, n_samples),\n",
    "    # 'category': np.random.choice(['es_transportation'], n_samples),\n",
    "    'amount': np.random.uniform(1, 1000, n_samples),\n",
    "    # 'Source': ['C' + str(i) for i in np.random.randint(100000000, 200000000, n_samples)],\n",
    "    'Target': ['M' + str(i) for i in np.random.randint(100000000, 200000000, n_samples)],\n",
    "    'Weight': np.random.uniform(0, 10, n_samples),\n",
    "    'typeTrans': np.random.choice(['type1', 'type2'], n_samples),\n",
    "    'fraud': np.random.randint(0, 2, n_samples)\n",
    "}\n",
    "\n",
    "# Create DataFrame\n",
    "data = pd.DataFrame(df)\n"
   ]
  },
  {
   "cell_type": "code",
   "execution_count": 9,
   "id": "11e80105-e98a-4113-9cfa-c6bf6c925645",
   "metadata": {
    "scrolled": true
   },
   "outputs": [
    {
     "data": {
      "text/html": [
       "<div>\n",
       "<style scoped>\n",
       "    .dataframe tbody tr th:only-of-type {\n",
       "        vertical-align: middle;\n",
       "    }\n",
       "\n",
       "    .dataframe tbody tr th {\n",
       "        vertical-align: top;\n",
       "    }\n",
       "\n",
       "    .dataframe thead th {\n",
       "        text-align: right;\n",
       "    }\n",
       "</style>\n",
       "<table border=\"1\" class=\"dataframe\">\n",
       "  <thead>\n",
       "    <tr style=\"text-align: right;\">\n",
       "      <th></th>\n",
       "      <th>step</th>\n",
       "      <th>age</th>\n",
       "      <th>gender</th>\n",
       "      <th>zipcodeOri</th>\n",
       "      <th>merchant</th>\n",
       "      <th>zipMerchant</th>\n",
       "      <th>amount</th>\n",
       "      <th>Target</th>\n",
       "      <th>Weight</th>\n",
       "      <th>typeTrans</th>\n",
       "      <th>fraud</th>\n",
       "    </tr>\n",
       "  </thead>\n",
       "  <tbody>\n",
       "    <tr>\n",
       "      <th>0</th>\n",
       "      <td>5</td>\n",
       "      <td>47</td>\n",
       "      <td>F</td>\n",
       "      <td>89133</td>\n",
       "      <td>M178432907</td>\n",
       "      <td>80863</td>\n",
       "      <td>257.407494</td>\n",
       "      <td>M152737552</td>\n",
       "      <td>7.867446</td>\n",
       "      <td>type1</td>\n",
       "      <td>1</td>\n",
       "    </tr>\n",
       "    <tr>\n",
       "      <th>1</th>\n",
       "      <td>0</td>\n",
       "      <td>59</td>\n",
       "      <td>M</td>\n",
       "      <td>48409</td>\n",
       "      <td>M199941181</td>\n",
       "      <td>82840</td>\n",
       "      <td>529.750393</td>\n",
       "      <td>M128097658</td>\n",
       "      <td>0.153201</td>\n",
       "      <td>type1</td>\n",
       "      <td>0</td>\n",
       "    </tr>\n",
       "    <tr>\n",
       "      <th>2</th>\n",
       "      <td>3</td>\n",
       "      <td>47</td>\n",
       "      <td>M</td>\n",
       "      <td>96660</td>\n",
       "      <td>M101227714</td>\n",
       "      <td>13698</td>\n",
       "      <td>740.849967</td>\n",
       "      <td>M182345262</td>\n",
       "      <td>2.420256</td>\n",
       "      <td>type1</td>\n",
       "      <td>0</td>\n",
       "    </tr>\n",
       "    <tr>\n",
       "      <th>3</th>\n",
       "      <td>3</td>\n",
       "      <td>29</td>\n",
       "      <td>M</td>\n",
       "      <td>17521</td>\n",
       "      <td>M172808378</td>\n",
       "      <td>81409</td>\n",
       "      <td>732.046935</td>\n",
       "      <td>M144494377</td>\n",
       "      <td>3.253514</td>\n",
       "      <td>type1</td>\n",
       "      <td>0</td>\n",
       "    </tr>\n",
       "    <tr>\n",
       "      <th>4</th>\n",
       "      <td>7</td>\n",
       "      <td>43</td>\n",
       "      <td>M</td>\n",
       "      <td>90622</td>\n",
       "      <td>M176077624</td>\n",
       "      <td>82418</td>\n",
       "      <td>223.511919</td>\n",
       "      <td>M198835536</td>\n",
       "      <td>0.167166</td>\n",
       "      <td>type2</td>\n",
       "      <td>1</td>\n",
       "    </tr>\n",
       "  </tbody>\n",
       "</table>\n",
       "</div>"
      ],
      "text/plain": [
       "   step  age gender  zipcodeOri    merchant  zipMerchant      amount  \\\n",
       "0     5   47      F       89133  M178432907        80863  257.407494   \n",
       "1     0   59      M       48409  M199941181        82840  529.750393   \n",
       "2     3   47      M       96660  M101227714        13698  740.849967   \n",
       "3     3   29      M       17521  M172808378        81409  732.046935   \n",
       "4     7   43      M       90622  M176077624        82418  223.511919   \n",
       "\n",
       "       Target    Weight typeTrans  fraud  \n",
       "0  M152737552  7.867446     type1      1  \n",
       "1  M128097658  0.153201     type1      0  \n",
       "2  M182345262  2.420256     type1      0  \n",
       "3  M144494377  3.253514     type1      0  \n",
       "4  M198835536  0.167166     type2      1  "
      ]
     },
     "execution_count": 9,
     "metadata": {},
     "output_type": "execute_result"
    }
   ],
   "source": [
    "data.head()"
   ]
  },
  {
   "cell_type": "code",
   "execution_count": 10,
   "id": "3aa4c038-29ac-4126-a67a-87868e01da26",
   "metadata": {},
   "outputs": [
    {
     "name": "stdout",
     "output_type": "stream",
     "text": [
      "No missing values found in the DataFrame.\n"
     ]
    }
   ],
   "source": [
    "# Check if there are missing data\n",
    "missing_values = data.isna()\n",
    "\n",
    "if missing_values.any().any():\n",
    "    print(\"There are missing values in the DataFrame.\")\n",
    "else:\n",
    "    print(\"No missing values found in the DataFrame.\")"
   ]
  },
  {
   "cell_type": "code",
   "execution_count": 11,
   "id": "4f6d8e66-cb90-4bd8-99ea-b2545d877b78",
   "metadata": {},
   "outputs": [],
   "source": [
    "# # Remove quotes from string columns\n",
    "# string_columns = ['customer', 'age', 'gender','zipcodeOri','merchant','zipMerchant','category','Source','Target','typeTrans']\n",
    "\n",
    "# for col in string_columns:\n",
    "#     original_df[col] = original_df[col].str.strip(\"'\")\n",
    "\n",
    "# original_df.head()"
   ]
  },
  {
   "cell_type": "code",
   "execution_count": 12,
   "id": "024652fc-e584-47ba-8102-506a8688a152",
   "metadata": {},
   "outputs": [
    {
     "data": {
      "text/html": [
       "<div>\n",
       "<style scoped>\n",
       "    .dataframe tbody tr th:only-of-type {\n",
       "        vertical-align: middle;\n",
       "    }\n",
       "\n",
       "    .dataframe tbody tr th {\n",
       "        vertical-align: top;\n",
       "    }\n",
       "\n",
       "    .dataframe thead th {\n",
       "        text-align: right;\n",
       "    }\n",
       "</style>\n",
       "<table border=\"1\" class=\"dataframe\">\n",
       "  <thead>\n",
       "    <tr style=\"text-align: right;\">\n",
       "      <th></th>\n",
       "      <th>step</th>\n",
       "      <th>age</th>\n",
       "      <th>gender</th>\n",
       "      <th>zipcodeOri</th>\n",
       "      <th>merchant</th>\n",
       "      <th>amount</th>\n",
       "      <th>Target</th>\n",
       "      <th>Weight</th>\n",
       "      <th>typeTrans</th>\n",
       "      <th>fraud</th>\n",
       "    </tr>\n",
       "  </thead>\n",
       "  <tbody>\n",
       "    <tr>\n",
       "      <th>0</th>\n",
       "      <td>5</td>\n",
       "      <td>47</td>\n",
       "      <td>F</td>\n",
       "      <td>89133</td>\n",
       "      <td>M178432907</td>\n",
       "      <td>257.407494</td>\n",
       "      <td>M152737552</td>\n",
       "      <td>7.867446</td>\n",
       "      <td>type1</td>\n",
       "      <td>1</td>\n",
       "    </tr>\n",
       "    <tr>\n",
       "      <th>1</th>\n",
       "      <td>0</td>\n",
       "      <td>59</td>\n",
       "      <td>M</td>\n",
       "      <td>48409</td>\n",
       "      <td>M199941181</td>\n",
       "      <td>529.750393</td>\n",
       "      <td>M128097658</td>\n",
       "      <td>0.153201</td>\n",
       "      <td>type1</td>\n",
       "      <td>0</td>\n",
       "    </tr>\n",
       "    <tr>\n",
       "      <th>2</th>\n",
       "      <td>3</td>\n",
       "      <td>47</td>\n",
       "      <td>M</td>\n",
       "      <td>96660</td>\n",
       "      <td>M101227714</td>\n",
       "      <td>740.849967</td>\n",
       "      <td>M182345262</td>\n",
       "      <td>2.420256</td>\n",
       "      <td>type1</td>\n",
       "      <td>0</td>\n",
       "    </tr>\n",
       "    <tr>\n",
       "      <th>3</th>\n",
       "      <td>3</td>\n",
       "      <td>29</td>\n",
       "      <td>M</td>\n",
       "      <td>17521</td>\n",
       "      <td>M172808378</td>\n",
       "      <td>732.046935</td>\n",
       "      <td>M144494377</td>\n",
       "      <td>3.253514</td>\n",
       "      <td>type1</td>\n",
       "      <td>0</td>\n",
       "    </tr>\n",
       "    <tr>\n",
       "      <th>4</th>\n",
       "      <td>7</td>\n",
       "      <td>43</td>\n",
       "      <td>M</td>\n",
       "      <td>90622</td>\n",
       "      <td>M176077624</td>\n",
       "      <td>223.511919</td>\n",
       "      <td>M198835536</td>\n",
       "      <td>0.167166</td>\n",
       "      <td>type2</td>\n",
       "      <td>1</td>\n",
       "    </tr>\n",
       "  </tbody>\n",
       "</table>\n",
       "</div>"
      ],
      "text/plain": [
       "   step  age gender  zipcodeOri    merchant      amount      Target    Weight  \\\n",
       "0     5   47      F       89133  M178432907  257.407494  M152737552  7.867446   \n",
       "1     0   59      M       48409  M199941181  529.750393  M128097658  0.153201   \n",
       "2     3   47      M       96660  M101227714  740.849967  M182345262  2.420256   \n",
       "3     3   29      M       17521  M172808378  732.046935  M144494377  3.253514   \n",
       "4     7   43      M       90622  M176077624  223.511919  M198835536  0.167166   \n",
       "\n",
       "  typeTrans  fraud  \n",
       "0     type1      1  \n",
       "1     type1      0  \n",
       "2     type1      0  \n",
       "3     type1      0  \n",
       "4     type2      1  "
      ]
     },
     "execution_count": 12,
     "metadata": {},
     "output_type": "execute_result"
    }
   ],
   "source": [
    "# Drop any features that are not useful for your model building and explain why they are not useful.\n",
    "data.drop(['zipMerchant'], axis=1, inplace=True)\n",
    "data.head()"
   ]
  },
  {
   "cell_type": "markdown",
   "id": "49e2aa9e-be04-49f7-956e-b5cb93d224e9",
   "metadata": {},
   "source": [
    "We dropped the zipMerchant and the Source columns because they are redundant in the data frame for zipcodeOri and Target, respectively. We might need to  drop more features as we start to build the model."
   ]
  },
  {
   "cell_type": "code",
   "execution_count": 13,
   "id": "ac372e49-5934-421e-b8ef-c0f51bdad6e5",
   "metadata": {},
   "outputs": [],
   "source": [
    "# Transform the data type of age \n",
    "mean_age = data[data['age'] != 'U']['age'].astype(float).mean()\n",
    "# Replace all ages with values 'U' with the mean\n",
    "data['age'].replace('U', mean_age, inplace=True)"
   ]
  },
  {
   "cell_type": "code",
   "execution_count": 14,
   "id": "dda40984-6751-440b-a698-27e095dfe3ab",
   "metadata": {},
   "outputs": [],
   "source": [
    "# Transform the data type of amount and weight to float\n",
    "data['amount'] = data['amount'].astype(float)\n",
    "data['Weight'] = data['Weight'].astype(float)"
   ]
  },
  {
   "cell_type": "markdown",
   "id": "795ef0de-39ea-4684-8141-22e765005d40",
   "metadata": {},
   "source": []
  },
  {
   "cell_type": "code",
   "execution_count": 15,
   "id": "7f625b76-d421-4410-9779-1dc38944dd20",
   "metadata": {},
   "outputs": [
    {
     "data": {
      "text/plain": [
       "((10000, 5), (10000,))"
      ]
     },
     "execution_count": 15,
     "metadata": {},
     "output_type": "execute_result"
    }
   ],
   "source": [
    "# Balance the fraud and legitimate transactions using SMOTE\n",
    "\n",
    "# dropping the non used features\n",
    "X_train_smote=data.drop(['gender','Target','zipcodeOri', 'merchant','typeTrans'], axis=1)\n",
    "Y_train_smote=data['fraud']\n",
    "X_train_smote.shape,Y_train_smote.shape"
   ]
  },
  {
   "cell_type": "code",
   "execution_count": 16,
   "id": "78c9e63d-4bc8-4827-bfd5-f35112dde4d3",
   "metadata": {},
   "outputs": [
    {
     "data": {
      "text/plain": [
       "Counter({1: 5080, 0: 4920})"
      ]
     },
     "execution_count": 16,
     "metadata": {},
     "output_type": "execute_result"
    }
   ],
   "source": [
    "# Count the class distribution before applying SMOTE\n",
    "class_distribution_before = Counter(Y_train_smote)\n",
    "class_distribution_before"
   ]
  },
  {
   "cell_type": "code",
   "execution_count": 17,
   "id": "58798dfb-bd0f-4c77-9942-cce6cf6270aa",
   "metadata": {},
   "outputs": [],
   "source": [
    "# # Prepare data for the pie chart\n",
    "# class_distribution_after = Counter(y_resampled)\n",
    "# #labels = class_distribution_after.keys()\n",
    "\n",
    "# # Create the pie chart\n",
    "# sizes = class_distribution_after.values()\n",
    "# plt.figure(figsize=(6, 6))\n",
    "# plt.pie(sizes, labels=['Legitimate', 'Fraudulent'], autopct='%1.1f%%', startangle=140, colors=['#ff9999','#66b3ff'])\n",
    "# plt.title('Class Distribution After SMOTE')\n",
    "# plt.show()"
   ]
  },
  {
   "cell_type": "markdown",
   "id": "fe905d60-25a9-49a7-a8b8-e8f732a7100e",
   "metadata": {},
   "source": [
    "Now, the data is balanced."
   ]
  },
  {
   "cell_type": "markdown",
   "id": "41fd1146-0d15-4dce-8c1c-f1aabc81bc5b",
   "metadata": {},
   "source": [
    "Let's also balance the data using Random Undersampling"
   ]
  },
  {
   "cell_type": "code",
   "execution_count": 18,
   "id": "da3d2990-2562-49d5-871b-f21210443cb3",
   "metadata": {},
   "outputs": [],
   "source": [
    "# Count the number of fraudulent and non-fraudulent transactions\n",
    "fraud_count = len(data[data['fraud'] == 1])\n",
    "non_fraud_count = len(data[data['fraud'] == 0])\n",
    "\n",
    "# Calculate the desired number of fraudulent samples to keep\n",
    "desired_fraud_count = non_fraud_count\n",
    "\n",
    "# Randomly sample fraudulent transactions to match the number of non-fraudulent transactions\n",
    "fraudulent_data = data[data['fraud'] == 1].sample(desired_fraud_count, random_state=42)\n",
    "\n",
    "# Combine the fraudulent and non-fraudulent samples\n",
    "balanced_data = pd.concat([fraudulent_data, data[data['fraud'] == 0]])\n",
    "\n",
    "# Shuffle the data to ensure randomness\n",
    "balanced_data = balanced_data.sample(frac=1, random_state=42).reset_index(drop=True)\n",
    "\n",
    "# Now, 'balanced_data' contains a balanced set of samples\n"
   ]
  },
  {
   "cell_type": "code",
   "execution_count": 19,
   "id": "178f3aeb-2d67-4dad-9dbf-58a251c7aed7",
   "metadata": {},
   "outputs": [
    {
     "data": {
      "image/png": "[encoded data removed]",
      "text/plain": [
       "<Figure size 500x500 with 1 Axes>"
      ]
     },
     "metadata": {},
     "output_type": "display_data"
    }
   ],
   "source": [
    "# Plotting the chart\n",
    "fraud_distribution = balanced_data['fraud'].value_counts()\n",
    "\n",
    "plt.figure(figsize=(5, 5))\n",
    "plt.pie(fraud_distribution, labels=['Legitimate', 'Fraudulent'], autopct='%1.1f%%', startangle=140, colors=['lightcoral', 'lightskyblue'])\n",
    "plt.title('Fraudulent vs. Legitimate Transactions')\n",
    "plt.axis('equal')\n",
    "plt.show()"
   ]
  },
  {
   "cell_type": "code",
   "execution_count": null,
   "id": "a2cee6ac-8e0c-47a4-8079-e33bd1a95920",
   "metadata": {},
   "outputs": [],
   "source": []
  },
  {
   "cell_type": "code",
   "execution_count": null,
   "id": "3ba0f4cd-9c72-43fb-8671-9b9edac86275",
   "metadata": {},
   "outputs": [],
   "source": [
    "\n"
   ]
  },
  {
   "cell_type": "markdown",
   "id": "6acbe70d-53cf-4d43-9a26-acb05c3cbe3a",
   "metadata": {},
   "source": [
    "## Milestone 3 "
   ]
  },
  {
   "cell_type": "code",
   "execution_count": 20,
   "id": "450eed44-783a-4eb5-98f3-e11457affd8b",
   "metadata": {
    "scrolled": true
   },
   "outputs": [],
   "source": [
    "# Separate features and target variable\n",
    "X = data.drop(['fraud'], axis=1)\n",
    "Y = data['fraud']\n",
    "\n",
    "# Convert feature names to strings\n",
    "X.columns = X.columns.astype(str)\n",
    "\n",
    "# One-hot encode categorical columns\n",
    "X_encoded = pd.get_dummies(X, drop_first=True)\n",
    "\n",
    "# Split the data into training and testing sets\n",
    "X_train, X_test, Y_train, Y_test = train_test_split(X_encoded, Y, test_size=0.2, random_state=42)\n",
    "\n",
    "# # Apply SMOTE to balance the training data\n",
    "smote = SMOTE(random_state=42)\n",
    "X_train_smote, Y_train_smote = smote.fit_resample(X_train, Y_train)\n",
    "\n",
    "# Initialize the Random Forest Classifier\n",
    "model = RandomForestClassifier(random_state=42)\n",
    "\n"
   ]
  },
  {
   "cell_type": "code",
   "execution_count": null,
   "id": "7bd30a63-f444-4ffe-a68d-6850c3687670",
   "metadata": {},
   "outputs": [],
   "source": []
  },
  {
   "cell_type": "code",
   "execution_count": 21,
   "id": "3f2e5090-4469-40d3-aa68-311677d8b590",
   "metadata": {},
   "outputs": [
    {
     "data": {
      "text/plain": [
       "((8224, 20004), (8224,))"
      ]
     },
     "execution_count": 21,
     "metadata": {},
     "output_type": "execute_result"
    }
   ],
   "source": [
    "X_train_smote.shape,Y_train_smote.shape"
   ]
  },
  {
   "cell_type": "code",
   "execution_count": 22,
   "id": "01429bf4-32ec-48ce-91a3-396ef3bfca60",
   "metadata": {},
   "outputs": [
    {
     "data": {
      "image/png": "[encoded data removed]",
      "text/plain": [
       "<Figure size 600x600 with 1 Axes>"
      ]
     },
     "metadata": {},
     "output_type": "display_data"
    }
   ],
   "source": [
    "# Count the class distribution after applying SMOTE\n",
    "class_distribution_after = Counter(Y_train_smote)\n",
    "class_distribution_after\n",
    "\n",
    "# Prepare data for the pie chart\n",
    "class_distribution_after = Counter(Y_train_smote)\n",
    "#labels = class_distribution_after.keys()\n",
    "\n",
    "# Create the pie chart\n",
    "sizes = class_distribution_after.values()\n",
    "plt.figure(figsize=(6, 6))\n",
    "plt.pie(sizes, labels=['Legitimate', 'Fraudulent'], autopct='%1.1f%%', startangle=140, colors=['#66b3ff','#ff9999'])\n",
    "plt.title('Fraudulent vs. Legitimate Transactions After SMOTE')\n",
    "plt.show()"
   ]
  },
  {
   "cell_type": "code",
   "execution_count": 23,
   "id": "35039058-7ad3-44fa-a321-0255b4856c13",
   "metadata": {},
   "outputs": [
    {
     "name": "stdout",
     "output_type": "stream",
     "text": [
      "              precision    recall  f1-score   support\n",
      "\n",
      "           0       0.51      0.26      0.34      1032\n",
      "           1       0.48      0.74      0.58       968\n",
      "\n",
      "    accuracy                           0.49      2000\n",
      "   macro avg       0.50      0.50      0.46      2000\n",
      "weighted avg       0.50      0.49      0.46      2000\n",
      "\n"
     ]
    }
   ],
   "source": [
    "\n",
    "# Initialize the Random Forest Classifier\n",
    "model = RandomForestClassifier(random_state=42)\n",
    "\n",
    "# Train the model on the balanced data\n",
    "model.fit(X_train_smote, Y_train_smote)\n",
    "\n",
    "# Generate predictions on the test set\n",
    "Y_pred = model.predict(X_test)\n",
    "\n",
    "# Evaluate the model\n",
    "classification_rep = classification_report(Y_test, Y_pred)\n",
    "print(classification_rep)\n"
   ]
  },
  {
   "cell_type": "code",
   "execution_count": null,
   "id": "d5ca7be3-28a1-4a01-962c-f190ca8d998d",
   "metadata": {
    "scrolled": true
   },
   "outputs": [
    {
     "name": "stdout",
     "output_type": "stream",
     "text": [
      "LogisticRegression() : \n",
      "Training ROC AUC :  0.5141064777665068\n",
      "Validation ROC AUC :  0.4961921007111282\n",
      "\n",
      "XGBClassifier(base_score=None, booster=None, callbacks=None,\n",
      "              colsample_bylevel=None, colsample_bynode=None,\n",
      "              colsample_bytree=None, device=None, early_stopping_rounds=None,\n",
      "              enable_categorical=False, eval_metric=None, feature_types=None,\n",
      "              gamma=None, grow_policy=None, importance_type=None,\n",
      "              interaction_constraints=None, learning_rate=None, max_bin=None,\n",
      "              max_cat_threshold=None, max_cat_to_onehot=None,\n",
      "              max_delta_step=None, max_depth=None, max_leaves=None,\n",
      "              min_child_weight=None, missing=nan, monotone_constraints=None,\n",
      "              multi_strategy=None, n_estimators=None, n_jobs=None,\n",
      "              num_parallel_tree=None, random_state=None, ...) : \n",
      "Training ROC AUC :  0.9674755851243015\n",
      "Validation ROC AUC :  0.4961921007111282\n",
      "\n"
     ]
    }
   ],
   "source": [
    "# Evaluating other models (Logistic Regression, XGBoost, SVM)\n",
    "models = [LogisticRegression(), XGBClassifier(), SVC(kernel='rbf', probability=True)]\n",
    "\n",
    "for i in range(len(models)):\n",
    "    models[i].fit(X_train_smote, Y_train_smote)\n",
    "    print(f'{models[i]} : ')\n",
    "    \n",
    "    train_preds = models[i].predict_proba(X_train_smote)[:, 1]\n",
    "    print('Training ROC AUC : ', roc_auc_score(Y_train_smote, train_preds))\n",
    "\n",
    "    \n",
    "    y_preds = models[i].predict_proba(X_test)[:, 1]\n",
    "    print('Validation ROC AUC : ', roc_auc_score(Y_test, Y_pred))\n",
    "\n",
    "    print()\n"
   ]
  },
  {
   "cell_type": "code",
   "execution_count": null,
   "id": "0baa7a56-ebac-4021-8f50-0e4388a4d32a",
   "metadata": {},
   "outputs": [],
   "source": []
  },
  {
   "cell_type": "markdown",
   "id": "ac168be4-c066-4388-85b5-bbe2f3750b81",
   "metadata": {},
   "source": [
    "The Random Forest Classifier was chosen because it is a strong choice for fraud detection. It excels at capturing complex relationships in the data and is robust against overfitting. In this model, it demonstrates balanced performance in terms of precision, recall, and F1-score for both fraud and non-fraud cases. Random Forest is well-suited for fraud detection due to its ability to handle both numerical and categorical features effectively. It can identify intricate patterns that might be indicative of fraudulent behavior.\n",
    "However, I had to use a random sample of the data set due to the original dataset being a very large and I encountered memory errors when encoding the categorical features. THe code was also running very slow and sometimes doesn't run. So this led the result of the model to be low and have more fraud data.\n",
    "Therefore, I tried using the other models to see if the accuracy would improve but it didn't. \n",
    "Logistic Regression can be valuable in providing a clear understanding of which features contribute most to identifying potential fraud.\n",
    "* Logistic Regression: \r\n",
    "The model's performance is not much better than random guessing. It's getting roughly 50% accuracy on both the training and validation sets. This suggests that the Logistic Regression model might be underfitting or the data might not be well-suited for linear classification.\n",
    "XGBoost can capture nuanced relationships in the data, which is crucial in fraud detection. It's often favored in scenarios where achieving high accuracy is a priorit\n",
    "* XGBoost Classifier: \r\n",
    "The training accuracy is very high (96.49%), which could indicate that the model might be overfitting to the training data.\r\n",
    "The validation accuracy is the same as Logistic Regression (49.62%). This suggests that the XGBoost model is not generalizing well to unseen data, which is likely due to overfitting.y."
   ]
  },
  {
   "cell_type": "markdown",
   "id": "8c18cb6e-3fb1-45e5-b089-f652c7c9e8fb",
   "metadata": {},
   "source": [
    "#### Therefore, I loaded a new the dataset without the categorical variables and was able to get upto 96% accuracy.\n",
    "Below are the results"
   ]
  },
  {
   "cell_type": "code",
   "execution_count": 15,
   "id": "5d3305cb-c012-4c4f-8fbe-0ca13f50ade1",
   "metadata": {},
   "outputs": [
    {
     "data": {
      "text/html": [
       "<div>\n",
       "<style scoped>\n",
       "    .dataframe tbody tr th:only-of-type {\n",
       "        vertical-align: middle;\n",
       "    }\n",
       "\n",
       "    .dataframe tbody tr th {\n",
       "        vertical-align: top;\n",
       "    }\n",
       "\n",
       "    .dataframe thead th {\n",
       "        text-align: right;\n",
       "    }\n",
       "</style>\n",
       "<table border=\"1\" class=\"dataframe\">\n",
       "  <thead>\n",
       "    <tr style=\"text-align: right;\">\n",
       "      <th></th>\n",
       "      <th>step</th>\n",
       "      <th>age</th>\n",
       "      <th>zipcodeOri</th>\n",
       "      <th>zipMerchant</th>\n",
       "      <th>amount</th>\n",
       "      <th>Weight</th>\n",
       "      <th>fraud</th>\n",
       "    </tr>\n",
       "  </thead>\n",
       "  <tbody>\n",
       "    <tr>\n",
       "      <th>0</th>\n",
       "      <td>0</td>\n",
       "      <td>4</td>\n",
       "      <td>28007</td>\n",
       "      <td>28007</td>\n",
       "      <td>4.55</td>\n",
       "      <td>4.55</td>\n",
       "      <td>0</td>\n",
       "    </tr>\n",
       "    <tr>\n",
       "      <th>1</th>\n",
       "      <td>0</td>\n",
       "      <td>2</td>\n",
       "      <td>28007</td>\n",
       "      <td>28007</td>\n",
       "      <td>39.68</td>\n",
       "      <td>39.68</td>\n",
       "      <td>0</td>\n",
       "    </tr>\n",
       "    <tr>\n",
       "      <th>2</th>\n",
       "      <td>0</td>\n",
       "      <td>4</td>\n",
       "      <td>28007</td>\n",
       "      <td>28007</td>\n",
       "      <td>26.89</td>\n",
       "      <td>26.89</td>\n",
       "      <td>0</td>\n",
       "    </tr>\n",
       "    <tr>\n",
       "      <th>3</th>\n",
       "      <td>0</td>\n",
       "      <td>3</td>\n",
       "      <td>28007</td>\n",
       "      <td>28007</td>\n",
       "      <td>17.25</td>\n",
       "      <td>17.25</td>\n",
       "      <td>0</td>\n",
       "    </tr>\n",
       "    <tr>\n",
       "      <th>4</th>\n",
       "      <td>0</td>\n",
       "      <td>5</td>\n",
       "      <td>28007</td>\n",
       "      <td>28007</td>\n",
       "      <td>35.72</td>\n",
       "      <td>35.72</td>\n",
       "      <td>0</td>\n",
       "    </tr>\n",
       "  </tbody>\n",
       "</table>\n",
       "</div>"
      ],
      "text/plain": [
       "   step  age  zipcodeOri  zipMerchant  amount  Weight  fraud\n",
       "0     0    4       28007        28007    4.55    4.55      0\n",
       "1     0    2       28007        28007   39.68   39.68      0\n",
       "2     0    4       28007        28007   26.89   26.89      0\n",
       "3     0    3       28007        28007   17.25   17.25      0\n",
       "4     0    5       28007        28007   35.72   35.72      0"
      ]
     },
     "execution_count": 15,
     "metadata": {},
     "output_type": "execute_result"
    }
   ],
   "source": [
    "df = pd.read_csv('Financial payment system - Copy.csv')\n",
    "df.head()"
   ]
  },
  {
   "cell_type": "code",
   "execution_count": 5,
   "id": "6be65c12-4553-439f-8fd0-9d899b0ff471",
   "metadata": {},
   "outputs": [
    {
     "data": {
      "text/plain": [
       "fraud\n",
       "0    0.987892\n",
       "1    0.012108\n",
       "Name: proportion, dtype: float64"
      ]
     },
     "execution_count": 5,
     "metadata": {},
     "output_type": "execute_result"
    }
   ],
   "source": [
    "pd.value_counts(df.fraud, normalize = True)"
   ]
  },
  {
   "cell_type": "code",
   "execution_count": 6,
   "id": "1ead65ce-6096-4223-92ae-2ac9c20578ba",
   "metadata": {},
   "outputs": [
    {
     "data": {
      "text/plain": [
       "0.987891894800746"
      ]
     },
     "execution_count": 6,
     "metadata": {},
     "output_type": "execute_result"
    }
   ],
   "source": [
    "majority_class = df.fraud.mode()[0]\n",
    "y_pred = np.full(shape = df.fraud.shape, fill_value = majority_class)\n",
    "accuracy_score(df.fraud, y_pred)"
   ]
  },
  {
   "cell_type": "code",
   "execution_count": 7,
   "id": "3881a5d5-15cd-40f6-b11b-445e0d208cb9",
   "metadata": {
    "scrolled": true
   },
   "outputs": [
    {
     "name": "stderr",
     "output_type": "stream",
     "text": [
      "C:\\Users\\saron\\PycharmProjects\\pythonProject\\venv\\lib\\site-packages\\sklearn\\metrics\\_classification.py:1469: UndefinedMetricWarning: Precision and F-score are ill-defined and being set to 0.0 in labels with no predicted samples. Use `zero_division` parameter to control this behavior.\n",
      "  _warn_prf(average, modifier, msg_start, len(result))\n",
      "C:\\Users\\saron\\PycharmProjects\\pythonProject\\venv\\lib\\site-packages\\sklearn\\metrics\\_classification.py:1469: UndefinedMetricWarning: Precision and F-score are ill-defined and being set to 0.0 in labels with no predicted samples. Use `zero_division` parameter to control this behavior.\n",
      "  _warn_prf(average, modifier, msg_start, len(result))\n"
     ]
    },
    {
     "name": "stdout",
     "output_type": "stream",
     "text": [
      "              precision    recall  f1-score   support\n",
      "\n",
      "           0       0.99      1.00      0.99    587443\n",
      "           1       0.00      0.00      0.00      7200\n",
      "\n",
      "    accuracy                           0.99    594643\n",
      "   macro avg       0.49      0.50      0.50    594643\n",
      "weighted avg       0.98      0.99      0.98    594643\n",
      "\n"
     ]
    },
    {
     "name": "stderr",
     "output_type": "stream",
     "text": [
      "C:\\Users\\saron\\PycharmProjects\\pythonProject\\venv\\lib\\site-packages\\sklearn\\metrics\\_classification.py:1469: UndefinedMetricWarning: Precision and F-score are ill-defined and being set to 0.0 in labels with no predicted samples. Use `zero_division` parameter to control this behavior.\n",
      "  _warn_prf(average, modifier, msg_start, len(result))\n"
     ]
    }
   ],
   "source": [
    "print(classification_report(df.fraud, y_pred))"
   ]
  },
  {
   "cell_type": "code",
   "execution_count": 8,
   "id": "e0623d35-1a36-4c8e-9023-da76c8f12c78",
   "metadata": {},
   "outputs": [
    {
     "data": {
      "text/plain": [
       "0.5"
      ]
     },
     "execution_count": 8,
     "metadata": {},
     "output_type": "execute_result"
    }
   ],
   "source": [
    "roc_auc_score(df.fraud, y_pred)"
   ]
  },
  {
   "cell_type": "code",
   "execution_count": 9,
   "id": "48f3ea92-4e9a-46ac-9742-c2e31a4de15b",
   "metadata": {
    "scrolled": true
   },
   "outputs": [
    {
     "name": "stdout",
     "output_type": "stream",
     "text": [
      "(16200, 6) (16200,)\n",
      "fraud\n",
      "0    9000\n",
      "1    7200\n",
      "Name: count, dtype: int64\n"
     ]
    }
   ],
   "source": [
    "X = df.drop(['fraud'], axis = 1)\n",
    "y = df.fraud\n",
    "rus = RandomUnderSampler(sampling_strategy=0.8)\n",
    "X_res, y_res = rus.fit_resample(X, y)\n",
    "print(X_res.shape, y_res.shape)\n",
    "print(pd.value_counts(y_res))"
   ]
  },
  {
   "cell_type": "code",
   "execution_count": 10,
   "id": "48bf279c-b949-445d-af11-04a04c2b4608",
   "metadata": {},
   "outputs": [
    {
     "name": "stdout",
     "output_type": "stream",
     "text": [
      "              precision    recall  f1-score   support\n",
      "\n",
      "           0       0.89      0.97      0.93       887\n",
      "           1       0.96      0.86      0.91       733\n",
      "\n",
      "    accuracy                           0.92      1620\n",
      "   macro avg       0.93      0.92      0.92      1620\n",
      "weighted avg       0.92      0.92      0.92      1620\n",
      "\n",
      "accuracy 0.9209876543209876\n"
     ]
    },
    {
     "data": {
      "text/plain": [
       "0.915411484055733"
      ]
     },
     "execution_count": 10,
     "metadata": {},
     "output_type": "execute_result"
    }
   ],
   "source": [
    "# Function to split data into training, validation, and test sets.\n",
    "\n",
    "def train_validation_test_split(\n",
    "    X, y, train_size=0.8, val_size=0.1, test_size=0.1, \n",
    "    random_state=None, shuffle=True):\n",
    "        \n",
    "    # Ensure that the proportions sum to 1\n",
    "    assert int(train_size + val_size + test_size + 1e-7) == 1\n",
    "    \n",
    "    # Split data into test and combined training/validation sets\n",
    "    X_train_val, X_test, y_train_val, y_test = train_test_split(\n",
    "        X, y, test_size=test_size, random_state=random_state, shuffle=shuffle)\n",
    "    \n",
    "    # Further split the combined set into training and validation sets\n",
    "    X_train, X_val, y_train, y_val = train_test_split(\n",
    "        X_train_val, y_train_val, test_size=val_size/(train_size+val_size), \n",
    "        random_state=random_state, shuffle=shuffle)\n",
    "    \n",
    "    return X_train, X_val, X_test, y_train, y_val, y_test\n",
    "\n",
    "# Use the function to split data into training, validation, and test sets\n",
    "X_train, X_val, X_test, y_train, y_val, y_test = train_validation_test_split(\n",
    "    X_res, y_res, train_size=0.8, val_size=0.1, test_size=0.1, random_state=1)\n",
    "\n",
    "# Define class weights for handling imbalanced classes\n",
    "class_weight = {0: 4, 1: 5}\n",
    "\n",
    "# Initialize and train a Logistic Regression model with specified class weights\n",
    "model = LogisticRegression(class_weight=class_weight)\n",
    "model.fit(X_train, y_train)\n",
    "\n",
    "# Predict on the validation set\n",
    "y_pred = model.predict(X_val)\n",
    "\n",
    "# Print classification report and accuracy\n",
    "print(classification_report(y_val, y_pred))\n",
    "print('accuracy', accuracy_score(y_val, y_pred))\n",
    "\n",
    "# Calculate the ROC AUC score for additional evaluation\n",
    "roc_auc_score(y_val, y_pred)\n"
   ]
  },
  {
   "cell_type": "code",
   "execution_count": 11,
   "id": "e3a01784-4ef8-44b5-b8f0-de81552ae039",
   "metadata": {},
   "outputs": [
    {
     "name": "stdout",
     "output_type": "stream",
     "text": [
      "              precision    recall  f1-score   support\n",
      "\n",
      "           0       0.90      0.98      0.94       904\n",
      "           1       0.97      0.86      0.91       716\n",
      "\n",
      "    accuracy                           0.93      1620\n",
      "   macro avg       0.93      0.92      0.92      1620\n",
      "weighted avg       0.93      0.93      0.93      1620\n",
      "\n",
      "Accuracy 0.9259259259259259\n",
      "ROC AUC score: 0.9191056508627082\n",
      "              precision    recall  f1-score   support\n",
      "\n",
      "           0       1.00      0.97      0.98    587443\n",
      "           1       0.25      0.86      0.39      7200\n",
      "\n",
      "    accuracy                           0.97    594643\n",
      "   macro avg       0.63      0.91      0.69    594643\n",
      "weighted avg       0.99      0.97      0.98    594643\n",
      "\n",
      "Accuracy: 0.9676057735481625\n",
      "ROC AUC score: 0.9130218630431661\n"
     ]
    }
   ],
   "source": [
    "# Predict on the test set using the trained model\n",
    "y_pred = model.predict(X_test)\n",
    "\n",
    "# Print a classification report for the test set\n",
    "print(classification_report(y_test, y_pred))\n",
    "\n",
    "# Print the accuracy of the model on the test set\n",
    "print('Accuracy', accuracy_score(y_test, y_pred))\n",
    "\n",
    "# Calculate and print the ROC AUC score for the test set\n",
    "print('ROC AUC score:', roc_auc_score(y_test, y_pred))\n",
    "\n",
    "# Predict on the entire dataset (including training, validation, and test sets)\n",
    "y_pred = model.predict(X)\n",
    "\n",
    "# Print a classification report for the entire dataset\n",
    "print(classification_report(y, y_pred))\n",
    "\n",
    "# Print the accuracy of the model on the entire dataset\n",
    "print('Accuracy:', accuracy_score(y, y_pred))\n",
    "\n",
    "# Calculate and print the ROC AUC score for the entire dataset\n",
    "print('ROC AUC score:', roc_auc_score(y, y_pred))\n"
   ]
  },
  {
   "cell_type": "code",
   "execution_count": null,
   "id": "642b518b-3adb-4d66-835b-260adcc0bcb3",
   "metadata": {},
   "outputs": [],
   "source": []
  },
  {
   "cell_type": "markdown",
   "id": "adf62ec7-1f39-4f2b-b4e3-c3f5a9afb145",
   "metadata": {},
   "source": [
    "### Update and Answers for the feedback"
   ]
  },
  {
   "cell_type": "markdown",
   "id": "33fc5352-7df0-4d6f-b1f5-a61d8d5dc7e9",
   "metadata": {},
   "source": [
    "Apologies for the confusion, Professor. That's correct, the new dataset is the same data with only certain columns."
   ]
  },
  {
   "cell_type": "code",
   "execution_count": 16,
   "id": "f93ea8a8-1725-443a-aa99-f5c40a0f6253",
   "metadata": {
    "scrolled": true
   },
   "outputs": [
    {
     "name": "stdout",
     "output_type": "stream",
     "text": [
      "<class 'pandas.core.frame.DataFrame'>\n",
      "RangeIndex: 594643 entries, 0 to 594642\n",
      "Data columns (total 7 columns):\n",
      " #   Column       Non-Null Count   Dtype  \n",
      "---  ------       --------------   -----  \n",
      " 0   step         594643 non-null  int64  \n",
      " 1   age          594643 non-null  int64  \n",
      " 2   zipcodeOri   594643 non-null  int64  \n",
      " 3   zipMerchant  594643 non-null  int64  \n",
      " 4   amount       594643 non-null  float64\n",
      " 5   Weight       594643 non-null  float64\n",
      " 6   fraud        594643 non-null  int64  \n",
      "dtypes: float64(2), int64(5)\n",
      "memory usage: 31.8 MB\n",
      "None\n",
      "<class 'pandas.core.frame.DataFrame'>\n",
      "RangeIndex: 10000 entries, 0 to 9999\n",
      "Data columns (total 11 columns):\n",
      " #   Column       Non-Null Count  Dtype  \n",
      "---  ------       --------------  -----  \n",
      " 0   step         10000 non-null  int32  \n",
      " 1   age          10000 non-null  int32  \n",
      " 2   gender       10000 non-null  object \n",
      " 3   zipcodeOri   10000 non-null  int32  \n",
      " 4   merchant     10000 non-null  object \n",
      " 5   zipMerchant  10000 non-null  int32  \n",
      " 6   amount       10000 non-null  float64\n",
      " 7   Target       10000 non-null  object \n",
      " 8   Weight       10000 non-null  float64\n",
      " 9   typeTrans    10000 non-null  object \n",
      " 10  fraud        10000 non-null  int32  \n",
      "dtypes: float64(2), int32(5), object(4)\n",
      "memory usage: 664.2+ KB\n",
      "None\n"
     ]
    }
   ],
   "source": [
    "print(df.info())\n",
    "print(data.info())"
   ]
  },
  {
   "cell_type": "markdown",
   "id": "3ea5972b-0292-477b-84b3-98959efb44af",
   "metadata": {},
   "source": [
    "The zip code columns are currently represented as integers in the dataset, rather than being treated as categorical variables."
   ]
  },
  {
   "cell_type": "markdown",
   "id": "fc286f21-db91-49e8-9e3d-0aba760ed1db",
   "metadata": {},
   "source": [
    "Let's add a confusion matrix matrix for the test set predictions"
   ]
  },
  {
   "cell_type": "code",
   "execution_count": 17,
   "id": "19e113c7-9979-4dfa-85c6-6844a58cdaaf",
   "metadata": {},
   "outputs": [
    {
     "data": {
      "image/png": "[encoded data removed]",
      "text/plain": [
       "<Figure size 800x600 with 1 Axes>"
      ]
     },
     "metadata": {},
     "output_type": "display_data"
    }
   ],
   "source": [
    "# Predict on the test set using the trained model\n",
    "y_pred = model.predict(X_test)\n",
    "\n",
    "# Create a confusion matrix\n",
    "conf_matrix_test = confusion_matrix(y_test, y_pred)\n",
    "\n",
    "# Plot the confusion matrix\n",
    "plt.figure(figsize=(8, 6))\n",
    "sns.heatmap(conf_matrix_test, annot=True, fmt='d', cmap='Blues', cbar=False,\n",
    "            xticklabels=['Legitimate', 'Fraudulent'],\n",
    "            yticklabels=['Legitimate', 'Fraudulent'])\n",
    "plt.title('Confusion Matrix - Test Set')\n",
    "plt.xlabel('Predicted')\n",
    "plt.ylabel('True')\n",
    "plt.show()\n"
   ]
  },
  {
   "cell_type": "markdown",
   "id": "0a6c65da-d505-4381-abfb-6efb21642172",
   "metadata": {},
   "source": [
    "* True Positive (TP): 616 - The model correctly predicted 616 instances as fraudulent.\n",
    "* True Negative (TN): 868 - The model correctly predicted 868 instances as legitimate.\n",
    "* False Positive (FP): 36 - The model incorrectly predicted 36 instances as fraudulent when they were legitimate (Type I error).\n",
    "* False Negative (FN): 100 - The model incorrectly predicted 100 instances as legitimate when they were fraudulent (Type II error)."
   ]
  },
  {
   "cell_type": "code",
   "execution_count": null,
   "id": "58fa4053-5bd8-4cb3-9308-d6a146ccc462",
   "metadata": {},
   "outputs": [],
   "source": []
  }
 ],
 "metadata": {
  "kernelspec": {
   "display_name": "Python 3 (ipykernel)",
   "language": "python",
   "name": "python3"
  },
  "language_info": {
   "codemirror_mode": {
    "name": "ipython",
    "version": 3
   },
   "file_extension": ".py",
   "mimetype": "text/x-python",
   "name": "python",
   "nbconvert_exporter": "python",
   "pygments_lexer": "ipython3",
   "version": "3.8.2"
  }
 },
 "nbformat": 4,
 "nbformat_minor": 5
}
